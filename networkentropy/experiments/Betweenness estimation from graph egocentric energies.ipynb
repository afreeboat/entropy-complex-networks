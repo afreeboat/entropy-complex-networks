{
 "cells": [
  {
   "cell_type": "markdown",
   "metadata": {
    "toc": true
   },
   "source": [
    "<h1>Table of Contents<span class=\"tocSkip\"></span></h1>\n",
    "<div class=\"toc\"><ul class=\"toc-item\"><li><span><a href=\"#Correlation-of-vertex-betweenness-with-graph-energy-of-vertex-egocentric-network\" data-toc-modified-id=\"Correlation-of-vertex-betweenness-with-graph-energy-of-vertex-egocentric-network-1\" data-vivaldi-spatnav-clickable=\"1\"><span class=\"toc-item-num\">1&nbsp;&nbsp;</span>Correlation of vertex betweenness with graph energy of vertex egocentric network</a></span><ul class=\"toc-item\"><li><span><a href=\"#Graph-energy\" data-toc-modified-id=\"Graph-energy-1.1\" data-vivaldi-spatnav-clickable=\"1\"><span class=\"toc-item-num\">1.1&nbsp;&nbsp;</span>Graph energy</a></span></li><li><span><a href=\"#Randić-energy\" data-toc-modified-id=\"Randić-energy-1.2\" data-vivaldi-spatnav-clickable=\"1\"><span class=\"toc-item-num\">1.2&nbsp;&nbsp;</span>Randić energy</a></span></li><li><span><a href=\"#Laplacian-energy\" data-toc-modified-id=\"Laplacian-energy-1.3\" data-vivaldi-spatnav-clickable=\"1\"><span class=\"toc-item-num\">1.3&nbsp;&nbsp;</span>Laplacian energy</a></span></li><li><span><a href=\"#Matrix-energies-for-various-topologies-of-small-egocentric-networks\" data-toc-modified-id=\"Matrix-energies-for-various-topologies-of-small-egocentric-networks-1.4\" data-vivaldi-spatnav-clickable=\"1\"><span class=\"toc-item-num\">1.4&nbsp;&nbsp;</span>Matrix energies for various topologies of small egocentric networks</a></span></li></ul></li><li><span><a href=\"#Correlation-of-graph/Randić/Laplacian-energy-and-betweenness-in-artificial-networks\" data-toc-modified-id=\"Correlation-of-graph/Randić/Laplacian-energy-and-betweenness-in-artificial-networks-2\" data-vivaldi-spatnav-clickable=\"1\"><span class=\"toc-item-num\">2&nbsp;&nbsp;</span>Correlation of graph/Randić/Laplacian energy and betweenness in artificial networks</a></span></li><li><span><a href=\"#Visualization-of-graph-energies-centrality\" data-toc-modified-id=\"Visualization-of-graph-energies-centrality-3\" data-vivaldi-spatnav-clickable=\"1\"><span class=\"toc-item-num\">3&nbsp;&nbsp;</span>Visualization of graph energies centrality</a></span></li><li><span><a href=\"#Regression-modeling-in-synthetic-networks\" data-toc-modified-id=\"Regression-modeling-in-synthetic-networks-4\" data-vivaldi-spatnav-clickable=\"1\"><span class=\"toc-item-num\">4&nbsp;&nbsp;</span>Regression modeling in synthetic networks</a></span><ul class=\"toc-item\"><li><span><a href=\"#Visualization-of-the-relationship-between-betweenness-and-energies-in-synthetic-networks\" data-toc-modified-id=\"Visualization-of-the-relationship-between-betweenness-and-energies-in-synthetic-networks-4.1\" data-vivaldi-spatnav-clickable=\"1\"><span class=\"toc-item-num\">4.1&nbsp;&nbsp;</span>Visualization of the relationship between betweenness and energies in synthetic networks</a></span></li></ul></li><li><span><a href=\"#Empirical-networks\" data-toc-modified-id=\"Empirical-networks-5\" data-vivaldi-spatnav-clickable=\"1\"><span class=\"toc-item-num\">5&nbsp;&nbsp;</span>Empirical networks</a></span><ul class=\"toc-item\"><li><span><a href=\"#Compute-basic-network-statistics\" data-toc-modified-id=\"Compute-basic-network-statistics-5.1\" data-vivaldi-spatnav-clickable=\"1\"><span class=\"toc-item-num\">5.1&nbsp;&nbsp;</span>Compute basic network statistics</a></span></li><li><span><a href=\"#Show-the-density-ratio-where-our-method-beats-SOTA\" data-toc-modified-id=\"Show-the-density-ratio-where-our-method-beats-SOTA-5.2\" data-vivaldi-spatnav-clickable=\"1\"><span class=\"toc-item-num\">5.2&nbsp;&nbsp;</span>Show the density ratio where our method beats SOTA</a></span></li><li><span><a href=\"#Compute-the-correlation-of-betweenness-and-egocentric-energies\" data-toc-modified-id=\"Compute-the-correlation-of-betweenness-and-egocentric-energies-5.3\" data-vivaldi-spatnav-clickable=\"1\"><span class=\"toc-item-num\">5.3&nbsp;&nbsp;</span>Compute the correlation of betweenness and egocentric energies</a></span></li></ul></li><li><span><a href=\"#Transfer-learning\" data-toc-modified-id=\"Transfer-learning-6\" data-vivaldi-spatnav-clickable=\"1\"><span class=\"toc-item-num\">6&nbsp;&nbsp;</span>Transfer learning</a></span></li></ul></div>"
   ]
  },
  {
   "cell_type": "markdown",
   "metadata": {
    "cell_style": "center"
   },
   "source": [
    "# Correlation of vertex betweenness with graph energy of vertex egocentric network\n",
    "\n",
    "In this experiment we are considering the measure of energy dispersion and its correlation to betweeness of vertices. There are multiple graph energies proposed in the literature, but our primary interest lies in Graph, Laplacian and Randić energies. Within the experiment we calculate the energy of each vertex by means of their ego-network. Then we compare how betweenes of vertices is correlated with the energy of their egocentric networks.\n",
    "\n",
    "Our second experiment aims at using machine learning to predict the betweenness of a vertex from only the local information contained in the egocentric network of that vertex. Computing of betweenness requires a very costly computation of all shortest paths in the network. Our approach allows to estimate betweennes using only local information.\n",
    "\n",
    "Finally, in our third experiment, we perform transfer learning, training a model for predicting betweenness on one network, and using this model to predict betweenness of vertices in other networks.\n"
   ]
  },
  {
   "cell_type": "markdown",
   "metadata": {},
   "source": [
    "## Graph energy\n",
    "\n",
    "Graph energy of a graph is defined as $E_G(G) = \\sum\\limits_{i=1}^n |\\mu_i|$, where $\\mu_1, \\ldots, \\mu_n$ are the eigenvalues of the adjacency matrix $M_A$ (also known as the *spectrum* of the graph).\n",
    "\n",
    "## Randić energy\n",
    "\n",
    "Randić matrix of the graph $G=\\left<V, E\\right>$ is defined as:\n",
    "\n",
    "$$\n",
    "M_R(i,j)=\n",
    "\\begin{cases}\n",
    "0 & \\mathit{if} & i=j\\\\\n",
    "\\frac{1}{\\sqrt{d_i d_j}} & \\mathit{if} & (i,j) \\in E\\\\\n",
    "0 & \\mathit{if} & (i,j) \\notin E\n",
    "\\end{cases}\n",
    "$$\n",
    "\n",
    "Randić energy of a graph is defined as $E_R(G) = \\sum\\limits_{i=1}^n |\\rho_i|$, where $\\rho_1, \\ldots, \\rho_n$ are the eigenvalues of the Randić matrix $M_R$.\n",
    "\n",
    "## Laplacian energy\n",
    "\n",
    "Laplacian matrix of the graph $G=\\left<V, E\\right>$ is defined as:\n",
    "\n",
    "$$\n",
    "M_L(i,j)=\n",
    "\\begin{cases}\n",
    "d_i & \\mathit{if} & i=j\\\\\n",
    "-1 & \\mathit{if} & (i,j) \\in E\\\\\n",
    "0 & \\mathit{otherwise}\n",
    "\\end{cases}\n",
    "$$\n",
    "\n",
    "Laplacian energy of a graph is defined as $E_L(G) =  \\sum\\limits_{i=1}^n |\\lambda_i - \\frac{2m}{n}|$, where $\\lambda_1, \\ldots, \\lambda_n$ are the eigenvalues of the Laplacian matrix $M_L$, $n$ is the number of vertices and $m$ is the number of edges in the graph $G$."
   ]
  },
  {
   "cell_type": "code",
   "execution_count": null,
   "metadata": {
    "ExecuteTime": {
     "end_time": "2019-01-01T21:43:19.745899Z",
     "start_time": "2019-01-01T21:43:19.520718Z"
    }
   },
   "outputs": [],
   "source": [
    "%matplotlib inline\n",
    "\n",
    "import warnings\n",
    "warnings.filterwarnings('ignore')"
   ]
  },
  {
   "cell_type": "code",
   "execution_count": null,
   "metadata": {
    "ExecuteTime": {
     "end_time": "2019-01-01T21:43:20.903310Z",
     "start_time": "2019-01-01T21:43:19.930442Z"
    }
   },
   "outputs": [],
   "source": [
    "from tqdm import tqdm_notebook as tqdm\n",
    "\n",
    "from ggplot import *\n",
    "\n",
    "import pandas as pd\n",
    "import numpy as np\n",
    "import networkx as nx\n",
    "import scipy, scipy.stats\n",
    "import matplotlib.pyplot as plt\n",
    "import seaborn as sns\n",
    "import sklearn.preprocessing\n",
    "import logging\n",
    "import requests\n",
    "import itertools"
   ]
  },
  {
   "cell_type": "code",
   "execution_count": null,
   "metadata": {
    "ExecuteTime": {
     "end_time": "2019-01-01T21:43:20.970524Z",
     "start_time": "2019-01-01T21:43:20.905707Z"
    }
   },
   "outputs": [],
   "source": [
    "import sys\n",
    "sys.path.append(\"..\")\n",
    "\n",
    "import network_energy as ne\n",
    "import utils as nu"
   ]
  },
  {
   "cell_type": "code",
   "execution_count": null,
   "metadata": {
    "ExecuteTime": {
     "end_time": "2019-01-01T21:42:06.555516Z",
     "start_time": "2019-01-01T21:42:06.551492Z"
    }
   },
   "outputs": [],
   "source": [
    "def chunks(lst, n):\n",
    "    \"\"\"\n",
    "    Divide a list of vertices `lst` into chunks consisting of `n` vertices\n",
    "    \n",
    "    Tests:\n",
    "    >>> list(chunks([1,2,3,4,5,6], 2))\n",
    "    [(1, 2), (3, 4), (5, 6)]\n",
    "\n",
    "    >>> list(chunks([1,2,3,4,5,6], 4))\n",
    "    [(1, 2, 3, 4), (5, 6)]\n",
    "\n",
    "    >>> list(chunks([], 2))\n",
    "    []\n",
    "\n",
    "    \"\"\"\n",
    "    _lst = iter(lst)\n",
    "    while 1:\n",
    "        x = tuple(itertools.islice(_lst, n))\n",
    "        if not x:\n",
    "            return\n",
    "        yield x\n",
    "        \n",
    "def normalize_df_column(df_column):\n",
    "    \"\"\"\n",
    "    Normalize a dataframe column to the range [0,1]\n",
    "    \n",
    "    Tests:\n",
    "    >>> normalize_df_column(pd.Series([1,2,3,4,5]))\n",
    "    array([[0.  ],\n",
    "           [0.25],\n",
    "           [0.5 ],\n",
    "           [0.75],\n",
    "           [1.  ]])\n",
    "    \"\"\"\n",
    "    x = df_column.values.astype(float)\n",
    "    min_max_scaler = sklearn.preprocessing.MinMaxScaler()\n",
    "    x_scaled = min_max_scaler.fit_transform(x.reshape(-1,1))\n",
    "    \n",
    "    return x_scaled"
   ]
  },
  {
   "cell_type": "code",
   "execution_count": null,
   "metadata": {
    "ExecuteTime": {
     "end_time": "2019-01-01T21:42:06.872571Z",
     "start_time": "2019-01-01T21:42:06.848782Z"
    }
   },
   "outputs": [],
   "source": [
    "import doctest\n",
    "doctest.testmod()"
   ]
  },
  {
   "cell_type": "markdown",
   "metadata": {},
   "source": [
    "## Matrix energies for various topologies of small egocentric networks\n",
    "\n",
    "Firstly, let us examine the relationship between the topology of a small egocentric network and its energies. We generate five different egocentric networks representing possible small scale configurations and compute all three types of matrix energies. The results are somehow surprising, graph energy tends to correlate with the degree of connectivity of the egocentric network, Randic energy remains practically constant, and Laplacian energy behaves unpredictably, receiving the maximum value for a custom topology. "
   ]
  },
  {
   "cell_type": "code",
   "execution_count": null,
   "metadata": {},
   "outputs": [],
   "source": [
    "g_custom = nx.star_graph(n=5)\n",
    "g_custom.add_edge(1,2)\n",
    "g_custom.add_edge(4,5)\n",
    "\n",
    "graphs = [\n",
    "    {'name': 'path', 'graph': nx.path_graph(n=3)},\n",
    "    {'name': 'star', 'graph': nx.star_graph(n=5)},\n",
    "    {'name': 'custom', 'graph': g_custom},\n",
    "    {'name': 'wheel', 'graph': nx.wheel_graph(n=5)},\n",
    "    {'name': 'complete', 'graph': nx.complete_graph(n=5)}\n",
    "]\n",
    "\n",
    "sns.set(rc={'figure.figsize': (15, 4)})\n",
    "fig, ax = plt.subplots(5, 1)\n",
    "\n",
    "df = pd.DataFrame(\n",
    "    {'name': [ g['name'] for g in graphs],\n",
    "     'graph energy': [ne.get_graph_energy(g['graph']) for g in graphs],\n",
    "     'randic energy': [ne.get_randic_energy(g['graph']) for g in graphs],\n",
    "     'laplacian energy': [ne.get_laplacian_energy(g['graph']) for g in graphs]\n",
    "    }\n",
    ")\n",
    "\n",
    "plt.subplot(151)\n",
    "nx.draw(graphs[0]['graph'], node_color=['r','y','r'])\n",
    "plt.title(graphs[0]['name'])\n",
    "\n",
    "plt.subplot(152)\n",
    "nx.draw(graphs[1]['graph'], node_color=['y','r', 'r', 'r', 'r', 'r'])\n",
    "plt.title(graphs[1]['name'])\n",
    "\n",
    "plt.subplot(153)\n",
    "nx.draw(graphs[2]['graph'], node_color=['y','r','r', 'r', 'r', 'r'])\n",
    "plt.title(graphs[2]['name'])\n",
    "\n",
    "plt.subplot(154)\n",
    "nx.draw(graphs[3]['graph'], node_color=['y','r','r', 'r', 'r'])\n",
    "plt.title(graphs[3]['name'])\n",
    "\n",
    "plt.subplot(155)\n",
    "nx.draw(graphs[4]['graph'], node_color=['y','r','r', 'r', 'r'])\n",
    "plt.title(graphs[4]['name'])\n",
    "\n",
    "plt.show()\n",
    "\n",
    "df[['name', 'graph energy', 'randic energy', 'laplacian energy']]"
   ]
  },
  {
   "cell_type": "markdown",
   "metadata": {},
   "source": [
    "Next, we start with a star configuration of an egocentric network consisting of an ego and additional $n$ vertices, and we gradually add all remaining edges, until we form a full $K_5$ graph. For each intermediate graph we compute all its energies. We can clearly see that each of matrix energies is measuring a different \"aspect\" of the egocentric network:\n",
    "\n",
    "* randic energy is maximized for topologies very close to the original star-like structure and diminishes as more and more edges are added to the egocentric network\n",
    "* laplacian energy strongly resembles the entropy of adjacency matrix, being maximized half-way between the star structure and the clique structure of the egocentric network\n",
    "* graph energy steadily grows as the density of the egocentric network increases."
   ]
  },
  {
   "cell_type": "code",
   "execution_count": null,
   "metadata": {},
   "outputs": [],
   "source": [
    "from itertools import combinations\n",
    "from random import shuffle\n",
    "\n",
    "g = nx.star_graph(n=25)\n",
    "\n",
    "results = []\n",
    "\n",
    "edges = list(combinations(range(1, len(g.nodes)), r=2))\n",
    "\n",
    "# comment if you want to add edges in an ordered way\n",
    "shuffle(edges)\n",
    "\n",
    "for (idx, (i, j)) in enumerate(edges):\n",
    "    results.append((idx, ne.get_graph_energy(g), ne.get_randic_energy(g),\n",
    "                    ne.get_laplacian_energy(g)))\n",
    "\n",
    "    g.add_edge(i, j)\n",
    "\n",
    "df = pd.DataFrame(\n",
    "    data=results,\n",
    "    columns=[\n",
    "        'complexity', 'graph energy', 'randic energy', 'laplacian energy'\n",
    "    ])\n",
    "\n",
    "df['graph energy'] = normalize_df_column(df['graph energy'])\n",
    "df['randic energy'] = normalize_df_column(df['randic energy'])\n",
    "df['laplacian energy'] = normalize_df_column(df['laplacian energy'])\n",
    "\n",
    "dfm = pd.melt(\n",
    "    df,\n",
    "    value_vars=['graph energy', 'randic energy', 'laplacian energy'],\n",
    "    id_vars='complexity')\n",
    "\n",
    "sns.set(rc={'figure.figsize': (12, 8)})\n",
    "sns.lineplot(data=dfm, x='complexity', y='value', hue='variable')"
   ]
  },
  {
   "cell_type": "markdown",
   "metadata": {},
   "source": [
    "# Correlation of graph/Randić/Laplacian energy and betweenness in artificial networks\n",
    "\n",
    "In this experiment we create several instances of networks generated by two popular models:\n",
    "\n",
    "- Erdos-Renyi random network model\n",
    "- Barabasi-Albert preferential attachment model\n",
    "\n",
    "and for each network we modify its main generative parameter. For each network we collect detailed statistics on every node:\n",
    "\n",
    "- its betweenness,\n",
    "- its Randić energy,\n",
    "- its Laplacian energy,\n",
    "- and its graph energy.\n",
    "\n",
    "We normalize these variables using MinMax scaling to the range of [0-1]. Finally, we group the data by network model and network model parameter used to generate a given network instance, and for each such combination we compute the correlation of \n",
    "\n"
   ]
  },
  {
   "cell_type": "code",
   "execution_count": null,
   "metadata": {
    "ExecuteTime": {
     "end_time": "2019-01-01T18:04:19.246372Z",
     "start_time": "2019-01-01T18:03:12.387382Z"
    }
   },
   "outputs": [],
   "source": [
    "num_nodes = 250\n",
    "\n",
    "results = pd.DataFrame(columns=['node',\n",
    "                                'betweenness',\n",
    "                                'randic_energy',\n",
    "                                'graph_energy',\n",
    "                                'network_model',\n",
    "                                'network_model_param'])\n",
    "\n",
    "# iterate over different parameter settings\n",
    "network_model_params = [p/100 for p in range(1, 10)]\n",
    "\n",
    "# radius of egocentric networks for energy computation\n",
    "radius = 1\n",
    "\n",
    "# sizes of groups for SBM\n",
    "sizes = [50, 50, 150]\n",
    "\n",
    "# intra- and inter-densities of edges between groups in SBM\n",
    "\n",
    "\n",
    "def pa(): return np.random.uniform(0, 0.1)\n",
    "\n",
    "\n",
    "def pb(): return np.random.uniform(0.2, 0.3)\n",
    "\n",
    "\n",
    "for p in tqdm(network_model_params):\n",
    "\n",
    "    b = 0.4\n",
    "    \n",
    "    probs = np.matrix([[b, p, p],\n",
    "                       [p, b, p],\n",
    "                       [p, p, b]])\n",
    "\n",
    "    # symmetrize the matrix\n",
    "    probs = np.maximum(probs, probs.T)\n",
    "\n",
    "    # generate random and power-law networks with n=500 and p=0.01, 0.02, ..., 0.10\n",
    "    generators = {\n",
    "        'random': nx.erdos_renyi_graph(n=num_nodes, p=p),\n",
    "        'powerlaw': nx.powerlaw_cluster_graph(n=num_nodes, m=2, p=p),\n",
    "        'sbm': nx.stochastic_block_model(sizes=sizes, p=np.array(probs))\n",
    "    }\n",
    "\n",
    "    for generator in generators.keys():\n",
    "\n",
    "        G = generators[generator]\n",
    "\n",
    "        be = nx.betweenness_centrality(G, k=None, normalized=True)\n",
    "        re = ne.randic_centrality(G, radius=radius, normalized=True)\n",
    "        ge = ne.graph_energy_centrality(G, radius=radius, normalized=True)\n",
    "        le = ne.laplacian_centrality(G, radius=radius, normalized=True)\n",
    "\n",
    "        _dict = {\n",
    "            'node': list(G.nodes),\n",
    "            'betweenness': list(be.values()),\n",
    "            'randic_energy': list(re.values()),\n",
    "            'graph_energy': list(ge.values()),\n",
    "            'laplacian_energy': list(le.values()),\n",
    "            'network_model': [generator] * G.number_of_nodes(),\n",
    "            'network_model_param': [p] * G.number_of_nodes()\n",
    "        }\n",
    "\n",
    "        _result = pd.DataFrame.from_dict(_dict)\n",
    "\n",
    "        results = pd.concat([results, _result], axis=0)\n",
    "        \n",
    "results[['betweenness','randic_energy','graph_energy','laplacian_energy']].describe()"
   ]
  },
  {
   "cell_type": "code",
   "execution_count": null,
   "metadata": {
    "ExecuteTime": {
     "end_time": "2019-01-01T19:00:58.870541Z",
     "start_time": "2019-01-01T19:00:58.830067Z"
    }
   },
   "outputs": [],
   "source": [
    "# what is the correlation between betweenness and randić energy for different models?\n",
    "_results = results.groupby(\n",
    "    ['network_model_param',\n",
    "     'network_model'])[['betweenness',\n",
    "                        'randic_energy', \n",
    "                        'graph_energy',\n",
    "                        'laplacian_energy']].corr().reset_index()\n",
    "\n",
    "# extract correlations for the two models\n",
    "powerlaw_idx = _results['network_model'] == 'powerlaw'\n",
    "random_idx = _results['network_model'] == 'random'\n",
    "sbm_idx = _results['network_model'] == 'sbm'\n",
    "\n",
    "powerlaw_corr = _results[powerlaw_idx]['betweenness'].tolist()\n",
    "random_corr = _results[random_idx]['betweenness'].tolist()\n",
    "sbm_corr = _results[sbm_idx]['betweenness'].tolist()\n",
    "\n",
    "# get additional columns with network model parameter and type of energy\n",
    "network_model_param = _results[random_idx]['network_model_param'].tolist()\n",
    "energy_idx = _results[random_idx]['level_2'].tolist()\n",
    "\n",
    "correlations = pd.DataFrame({'p': network_model_param, \n",
    "                             'energy': energy_idx,\n",
    "                             'powerlaw': powerlaw_corr, \n",
    "                             'random': random_corr,\n",
    "                             'sbm': sbm_corr})\n",
    "\n",
    "# melt the DataFrame to a format more suitable for drawing\n",
    "correlations_mlt = pd.melt(correlations[correlations['energy'] != 'betweenness'], \n",
    "                id_vars=['p','energy'], \n",
    "                value_vars=['powerlaw','random','sbm'], \n",
    "                var_name='network_model', \n",
    "                value_name='correlation')"
   ]
  },
  {
   "cell_type": "code",
   "execution_count": null,
   "metadata": {
    "ExecuteTime": {
     "end_time": "2019-01-01T19:01:01.087917Z",
     "start_time": "2019-01-01T19:01:00.188211Z"
    }
   },
   "outputs": [],
   "source": [
    "g = sns.FacetGrid(correlations_mlt, col='energy', hue='network_model', height=8)\n",
    "g.map(sns.lineplot, 'p', 'correlation')\n",
    "g.add_legend()"
   ]
  },
  {
   "cell_type": "markdown",
   "metadata": {},
   "source": [
    "# Visualization of graph energies centrality\n",
    "\n",
    "We visualize Randić, Laplacian and graph energy for the well-known Zachary karate club network. The energy of each vertex is denoted by its color and size. As can be seen, the correlation between these centralities is very high and they all provide similar information. Also, one can see that these centralities have strong preference to nodes that are either central to their cluster, or lying in between clusters."
   ]
  },
  {
   "cell_type": "code",
   "execution_count": null,
   "metadata": {
    "ExecuteTime": {
     "end_time": "2019-01-01T19:01:25.462513Z",
     "start_time": "2019-01-01T19:01:25.015824Z"
    }
   },
   "outputs": [],
   "source": [
    "from sklearn.preprocessing import MinMaxScaler\n",
    "minmax = MinMaxScaler()\n",
    "\n",
    "norm = lambda lst: minmax.fit_transform(np.asarray(lst, dtype=np.float32).\n",
    "                                        reshape(-1,1)).reshape(-1).tolist()\n",
    "\n",
    "g = nx.karate_club_graph()\n",
    "\n",
    "re = list(ne.randic_centrality(g).values())\n",
    "re = norm(re)\n",
    "\n",
    "le = list(ne.laplacian_centrality(g).values())\n",
    "le = norm(le)\n",
    "\n",
    "ge = list(ne.graph_energy_centrality(g).values())\n",
    "ge = norm(ge)\n",
    "\n",
    "sns.set(rc={'figure.figsize':(11.7,8.27)})\n",
    "\n",
    "fig, ax = plt.subplots(3,1)\n",
    "\n",
    "plt.subplot(131)\n",
    "options = { \n",
    "    'node_color': [d * 1 for d in ge], \n",
    "    'node_size': [d * 1000 for d in ge], \n",
    "    'cmap': plt.cm.Greens,\n",
    "    'edge_color': 'gray' \n",
    "}\n",
    "nx.draw_kamada_kawai(g, **options)\n",
    "plt.title('Graph energy')\n",
    "\n",
    "plt.subplot(132)\n",
    "options = { \n",
    "    'node_color': [d * 1 for d in le], \n",
    "    'node_size': [d * 1000 for d in le], \n",
    "    'cmap': plt.cm.Oranges,\n",
    "    'edge_color': 'gray' \n",
    "}\n",
    "nx.draw_kamada_kawai(g, **options)\n",
    "plt.title('Laplacian energy')\n",
    "\n",
    "plt.subplot(133)\n",
    "options = { \n",
    "    'node_color': [d * 1 for d in re], \n",
    "    'node_size': [d * 1000 for d in re], \n",
    "    'cmap': plt.cm.Purples,\n",
    "    'edge_color': 'gray'\n",
    "}\n",
    "nx.draw_kamada_kawai(g, **options)\n",
    "plt.title('Randić energy')\n",
    "\n",
    "plt.show()"
   ]
  },
  {
   "cell_type": "markdown",
   "metadata": {},
   "source": [
    "# Regression modeling in synthetic networks\n",
    "\n",
    "As the next step we fit regression models and compute their accuracy in terms of\n",
    "\n",
    "  * Pearson, Spearman, and Kendall correlations\n",
    "  * mean absolute error\n",
    "  * mean squarred error\n",
    "  \n",
    "In the experiment we fit various regressors:\n",
    "\n",
    "- simple linear model\n",
    "- random forest regressor\n",
    "- gradient boosting regressor\n",
    "\n",
    "We collect the data from generative network models, and for each vertex we note its betweenness and its energies. Then, we fit these three regressors for networks generated for a particular value of the generative attribute."
   ]
  },
  {
   "cell_type": "code",
   "execution_count": null,
   "metadata": {
    "ExecuteTime": {
     "end_time": "2019-01-01T19:01:30.912524Z",
     "start_time": "2019-01-01T19:01:30.270160Z"
    }
   },
   "outputs": [],
   "source": [
    "from sklearn.linear_model import LinearRegression\n",
    "from sklearn.ensemble import RandomForestRegressor, GradientBoostingRegressor\n",
    "from sklearn.model_selection import train_test_split\n",
    "from sklearn.metrics import mean_absolute_error, mean_squared_error, r2_score\n",
    "from scipy.stats import pearsonr, spearmanr, kendalltau, rankdata\n",
    "\n",
    "regression_models = {\n",
    "    'linear model': LinearRegression(), \n",
    "    'random forest': RandomForestRegressor(), \n",
    "    'gradient boosting': GradientBoostingRegressor()\n",
    "}\n",
    "\n",
    "prediction_results = []\n",
    "\n",
    "for network_model in results['network_model'].unique():\n",
    "    for network_model_param in network_model_params:\n",
    "        \n",
    "        model_idx = results['network_model'] == network_model\n",
    "        param_idx = results['network_model_param'] == network_model_param\n",
    "        \n",
    "        df = results[ model_idx & param_idx]\n",
    "        \n",
    "        y = df['betweenness'].values\n",
    "        X = df[['randic_energy','graph_energy','laplacian_energy']].values\n",
    "        \n",
    "        X_train, X_test, y_train, y_test = train_test_split(X, y, test_size=0.33, random_state=42)\n",
    "        \n",
    "        for regression_model in regression_models:\n",
    "            \n",
    "            l_model = regression_models[regression_model]\n",
    "            \n",
    "            l_model.fit(X=X_train, y=y_train)\n",
    "            y_pred = l_model.predict(X_test)\n",
    "\n",
    "            y_ranked = rankdata(y_test, method='ordinal') \n",
    "            y_pred_ranked = rankdata(y_pred, method='ordinal')\n",
    "\n",
    "            _dict = {\n",
    "                'regression_model': regression_model,\n",
    "                'network_model': network_model,\n",
    "                'network_model_param': network_model_param,\n",
    "                'mae': mean_absolute_error(y_true=y_test, y_pred=y_pred),\n",
    "                'mse': mean_squared_error(y_true=y_test, y_pred=y_pred),\n",
    "                'r2': r2_score(y_test, y_pred),\n",
    "                'pearson': pearsonr(y_test, y_pred)[0],\n",
    "                'spearman': spearmanr(y_test, y_pred, axis=0, nan_policy='propagate')[0],\n",
    "                'kendall': kendalltau(y_ranked, y_pred_ranked, initial_lexsort=None, nan_policy='propagate')[0]\n",
    "            }\n",
    "\n",
    "            prediction_results.append(_dict)\n",
    "\n",
    "# convert the list of dicts into a DataFrame\n",
    "prediction_results = pd.DataFrame(prediction_results, \n",
    "             columns=['regression_model', \n",
    "                      'network_model',\n",
    "                      'network_model_param', \n",
    "                      'mae', \n",
    "                      'mse', \n",
    "                      'r2', \n",
    "                      'pearson', \n",
    "                      'spearman', \n",
    "                      'kendall'])\n",
    "\n",
    "# melt DataFrame to transform it into tidy format\n",
    "prediction_results_mlt = pd.melt(prediction_results,\n",
    "                             id_vars=['regression_model', 'network_model','network_model_param'], \n",
    "                             var_name='measure',\n",
    "                             value_name='value')"
   ]
  },
  {
   "cell_type": "markdown",
   "metadata": {},
   "source": [
    "## Visualization of the relationship between betweenness and energies in synthetic networks\n",
    "\n",
    "The following figures show the linear model predicting vertex betweenness based on graph energy, Randić energy, and Laplacian energy for random and powerlaw networks for a fixed value of the generative parameter. The value of the parameter is drawn randomly from the entire domain of the parameter."
   ]
  },
  {
   "cell_type": "code",
   "execution_count": null,
   "metadata": {
    "ExecuteTime": {
     "end_time": "2019-01-01T19:01:33.716586Z",
     "start_time": "2019-01-01T19:01:32.437829Z"
    },
    "scrolled": true
   },
   "outputs": [],
   "source": [
    "network_model = 'random'\n",
    "network_model_param = np.random.choice(network_model_params)\n",
    "\n",
    "sns.jointplot(x='randic_energy',\n",
    "              y='betweenness', \n",
    "              data=results[(results['network_model'] == network_model) \n",
    "                           & (results['network_model_param'] == network_model_param)], \n",
    "              kind='reg', \n",
    "              color=\"xkcd:sky blue\")\n",
    "\n",
    "sns.jointplot(x='graph_energy', \n",
    "              y='betweenness',\n",
    "              data=results[(results['network_model'] == network_model) \n",
    "                           & (results['network_model_param'] == network_model_param)], \n",
    "              kind=\"reg\", \n",
    "              color=\"xkcd:strawberry\")\n",
    "\n",
    "sns.jointplot(x='laplacian_energy', \n",
    "              y='betweenness',\n",
    "              data=results[(results['network_model'] == network_model) \n",
    "                           & (results['network_model_param'] == network_model_param)], \n",
    "              kind=\"reg\", \n",
    "              color=\"xkcd:blue gray\")\n"
   ]
  },
  {
   "cell_type": "code",
   "execution_count": null,
   "metadata": {
    "ExecuteTime": {
     "end_time": "2019-01-01T19:01:41.599832Z",
     "start_time": "2019-01-01T19:01:39.927824Z"
    }
   },
   "outputs": [],
   "source": [
    "network_model = 'powerlaw'\n",
    "network_model_param = np.random.choice(network_model_params)\n",
    "\n",
    "sns.jointplot(x='randic_energy', \n",
    "              y='betweenness', \n",
    "              data=results[(results['network_model'] == network_model)\n",
    "                          & (results['network_model_param'] == network_model_param)], \n",
    "              kind='reg', \n",
    "              color=\"xkcd:medium blue\")\n",
    "\n",
    "sns.jointplot(x='graph_energy', \n",
    "              y='betweenness',\n",
    "              data=results[(results['network_model'] == network_model)\n",
    "                          & (results['network_model_param'] == network_model_param)], \n",
    "              kind=\"reg\", \n",
    "              color=\"xkcd:pumpkin orange\")\n",
    "\n",
    "sns.jointplot(x='laplacian_energy', \n",
    "              y='betweenness',\n",
    "              data=results[(results['network_model'] == network_model)\n",
    "                          & (results['network_model_param'] == network_model_param)], \n",
    "              kind=\"reg\", \n",
    "              color=\"xkcd:moss green\")"
   ]
  },
  {
   "cell_type": "markdown",
   "metadata": {},
   "source": [
    "Below we present correlation measures (Pearson, Spearman, Kendall) which describe the relationship of betweenness and vertex energies (Randic, Laplacian and Graph). We randomly select the value of the network generator parameter and repeat the correlation computation, averaging the results over 1000 runs."
   ]
  },
  {
   "cell_type": "code",
   "execution_count": null,
   "metadata": {
    "ExecuteTime": {
     "end_time": "2019-01-01T19:02:06.985035Z",
     "start_time": "2019-01-01T19:01:47.321451Z"
    }
   },
   "outputs": [],
   "source": [
    "result = []\n",
    "\n",
    "number_of_runs = 1000\n",
    "\n",
    "\n",
    "for network_model in results.network_model.unique():\n",
    "    for run in tqdm(range(number_of_runs)):\n",
    "        \n",
    "        network_model_param = np.random.choice(network_model_params)\n",
    "\n",
    "        network_model_idx = results['network_model'] == network_model\n",
    "        network_model_param_idx = results['network_model_param'] == network_model_param\n",
    "\n",
    "        for method in ['kendall','spearman','pearson']:\n",
    "\n",
    "            _corr = results[network_model_idx & network_model_param_idx][\n",
    "                ['betweenness',\n",
    "                 'randic_energy',\n",
    "                 'graph_energy',\n",
    "                 'laplacian_energy']].corr(method=method)\n",
    "            \n",
    "            result.append((network_model, \n",
    "                           network_model_param, \n",
    "                           method, \n",
    "                           _corr.betweenness['randic_energy'], \n",
    "                           _corr.betweenness['graph_energy'],\n",
    "                           _corr.betweenness['laplacian_energy']))\n",
    "        \n",
    "correlations = pd.DataFrame(result, \n",
    "                            columns=['network_model', \n",
    "                                     'network_model_param',\n",
    "                                     'method', \n",
    "                                     'BRC', \n",
    "                                     'BGC',\n",
    "                                     'BLC'])"
   ]
  },
  {
   "cell_type": "code",
   "execution_count": null,
   "metadata": {
    "ExecuteTime": {
     "end_time": "2019-01-01T19:02:09.686322Z",
     "start_time": "2019-01-01T19:02:09.654627Z"
    }
   },
   "outputs": [],
   "source": [
    "correlations[['network_model','method','BRC','BGC','BLC']].groupby(['network_model','method']).mean()"
   ]
  },
  {
   "cell_type": "code",
   "execution_count": null,
   "metadata": {
    "ExecuteTime": {
     "end_time": "2019-01-01T19:02:15.277095Z",
     "start_time": "2019-01-01T19:02:15.267344Z"
    }
   },
   "outputs": [],
   "source": [
    "# melt DataFrame to transform it into tidy format\n",
    "correlations_mlt = pd.melt(correlations,\n",
    "                             id_vars=['network_model','network_model_param', 'method'], \n",
    "                             var_name='measure',\n",
    "                             value_name='correlation')"
   ]
  },
  {
   "cell_type": "code",
   "execution_count": null,
   "metadata": {
    "ExecuteTime": {
     "end_time": "2019-01-01T19:02:21.159721Z",
     "start_time": "2019-01-01T19:02:16.288884Z"
    }
   },
   "outputs": [],
   "source": [
    "sns.reset_defaults()\n",
    "\n",
    "g = sns.FacetGrid(correlations_mlt, col='network_model', row='measure', hue='method', height=5, sharey=False)\n",
    "g.map(sns.lineplot, 'network_model_param', 'correlation')\n",
    "g.add_legend()"
   ]
  },
  {
   "cell_type": "markdown",
   "metadata": {},
   "source": [
    "# Empirical networks\n",
    "\n",
    "In this experiment we are trying to verify if the relationship between vertex energies and vertex betweenness holds also in empirical networks. We download a set of networks from the Koblenz network repository and compute the basic statistics of these networks."
   ]
  },
  {
   "cell_type": "code",
   "execution_count": null,
   "metadata": {
    "ExecuteTime": {
     "end_time": "2019-01-01T21:40:53.852712Z",
     "start_time": "2019-01-01T21:40:52.416151Z"
    }
   },
   "outputs": [],
   "source": [
    "available_networks = nu.read_avalilable_datasets_konect()\n",
    "\n",
    "available_networks"
   ]
  },
  {
   "cell_type": "code",
   "execution_count": null,
   "metadata": {
    "ExecuteTime": {
     "end_time": "2019-01-01T21:43:25.225467Z",
     "start_time": "2019-01-01T21:43:25.220663Z"
    }
   },
   "outputs": [],
   "source": [
    "network_names = [\n",
    "    'moreno_beach',\n",
    "    'moreno_bison',\n",
    "    'moreno_blogs',\n",
    "    'moreno_cattle',\n",
    "    'moreno_crime',\n",
    "    'moreno_health',\n",
    "    'moreno_highschool',\n",
    "    'moreno_innovation',\n",
    "    'moreno_kangaroo',\n",
    "    'moreno_lesmis',\n",
    "    'moreno_mac',\n",
    "    'moreno_names',\n",
    "    'moreno_oz',\n",
    "    'moreno_propro',\n",
    "    'moreno_rhesus',\n",
    "    'moreno_sampson',\n",
    "    'moreno_seventh',\n",
    "    'moreno_sheep',\n",
    "    'moreno_taro',\n",
    "    'moreno_train',\n",
    "    'moreno_vdb',\n",
    "    'moreno_zebra',\n",
    "]"
   ]
  },
  {
   "cell_type": "code",
   "execution_count": null,
   "metadata": {
    "ExecuteTime": {
     "end_time": "2019-01-01T21:53:05.530771Z",
     "start_time": "2019-01-01T21:52:16.213297Z"
    }
   },
   "outputs": [],
   "source": [
    "import utils as nu\n",
    "\n",
    "networks = []\n",
    "\n",
    "dir_name = 'data/'\n",
    "\n",
    "for network_name in tqdm(network_names):\n",
    "    networks.append(nu.build_network_from_out_konect(network_name=network_name, \n",
    "                                                     dir_name=dir_name,\n",
    "                                                     max_size=30))\n",
    "    \n",
    "# remove network names for networks that were too large\n",
    "network_names = [\n",
    "    n\n",
    "    for i, n in enumerate(network_names)\n",
    "    if networks[i]\n",
    "]\n",
    "\n",
    "# remove networks that were too large\n",
    "networks = list(filter(None, networks))"
   ]
  },
  {
   "cell_type": "code",
   "execution_count": null,
   "metadata": {
    "ExecuteTime": {
     "end_time": "2019-01-01T21:54:55.888348Z",
     "start_time": "2019-01-01T21:54:55.880362Z"
    }
   },
   "outputs": [],
   "source": [
    "networks = list(filter(None, networks))"
   ]
  },
  {
   "cell_type": "markdown",
   "metadata": {},
   "source": [
    "## Compute basic network statistics"
   ]
  },
  {
   "cell_type": "code",
   "execution_count": null,
   "metadata": {
    "ExecuteTime": {
     "end_time": "2019-01-01T21:55:00.298346Z",
     "start_time": "2019-01-01T21:55:00.281977Z"
    }
   },
   "outputs": [],
   "source": [
    "network_stats = []\n",
    "\n",
    "for (name, network) in zip(network_names, networks):\n",
    "    network_stats.append((name, \n",
    "                          network.number_of_nodes(), \n",
    "                          network.number_of_edges(),\n",
    "                          np.round(network.number_of_edges()/network.number_of_nodes(), 2)))\n",
    "    \n",
    "network_statistics_df = pd.DataFrame(network_stats, columns=['network name', \n",
    "                                          'number of vertices', \n",
    "                                          'number of edges', \n",
    "                                          'average degree'])\n",
    "\n",
    "# print(network_statistics_df.to_latex(index=False))"
   ]
  },
  {
   "cell_type": "code",
   "execution_count": null,
   "metadata": {
    "ExecuteTime": {
     "end_time": "2019-01-01T21:55:02.107847Z",
     "start_time": "2019-01-01T21:55:02.093673Z"
    }
   },
   "outputs": [],
   "source": [
    "network_statistics_df"
   ]
  },
  {
   "cell_type": "markdown",
   "metadata": {},
   "source": [
    "## Show the density ratio where our method beats SOTA\n",
    "\n",
    "Our initial analysis points to a certain area of the (#vertices, avg.degree) parameter space, where our method of betweenness estimation should perform better than the best currently known exact algorithm of betweenness estimation. "
   ]
  },
  {
   "cell_type": "code",
   "execution_count": null,
   "metadata": {
    "ExecuteTime": {
     "end_time": "2019-01-01T21:55:28.679831Z",
     "start_time": "2019-01-01T21:55:28.363789Z"
    }
   },
   "outputs": [],
   "source": [
    "x = range(1, network_statistics_df['number of vertices'].max())\n",
    "y1 = np.power(x * np.log(x), 1 / 3)\n",
    "y2 = np.power(x, 2 / 3)\n",
    "\n",
    "df = pd.DataFrame({\n",
    "    'num vertices': x,\n",
    "    'best limit': y1,\n",
    "    'naive limit': y2\n",
    "}).melt(\n",
    "    id_vars=['num vertices'], var_name='average degree limit')\n",
    "\n",
    "sns.set(rc={'figure.figsize': (11.7, 8.27)})\n",
    "\n",
    "figure = sns.lineplot(\n",
    "    data=df, x='num vertices', y='value', hue='average degree limit')\n",
    "\n",
    "plt.xlabel('number of vertices')\n",
    "plt.ylabel('average vertex degree')\n",
    "\n",
    "ax = sns.regplot(\n",
    "    x=network_statistics_df['number of vertices'],\n",
    "    y=network_statistics_df['average degree'],\n",
    "    scatter=True,\n",
    "    fit_reg=False,\n",
    "    marker='o',\n",
    "    scatter_kws={\"s\": 50})\n",
    "# the \"s\" key in `scatter_kws` modifies the size of the marker\n",
    "\n",
    "network_data_labels = network_statistics_df[\n",
    "    network_statistics_df['number of vertices'] > 200]\n",
    "\n",
    "[\n",
    "    ax.text(p[0] + 2, p[1] + 3, p[2])\n",
    "    for p in zip(network_data_labels['number of vertices'],\n",
    "                 network_data_labels['average degree'],\n",
    "                 network_data_labels['network name'])\n",
    "]\n",
    "\n",
    "plt.show(figure)"
   ]
  },
  {
   "cell_type": "markdown",
   "metadata": {},
   "source": [
    "## Compute the correlation of betweenness and egocentric energies"
   ]
  },
  {
   "cell_type": "markdown",
   "metadata": {},
   "source": [
    "Firstly we calculate betweenness and energy measures for each vertex"
   ]
  },
  {
   "cell_type": "code",
   "execution_count": null,
   "metadata": {
    "ExecuteTime": {
     "end_time": "2019-01-01T21:57:14.170734Z",
     "start_time": "2019-01-01T21:57:13.217584Z"
    }
   },
   "outputs": [],
   "source": [
    "real_data_measures = pd.DataFrame(columns=['node', 'value_type','value','network'])\n",
    "\n",
    "for i in tqdm(range(len(networks))):\n",
    "    G = networks[i]\n",
    "    \n",
    "    be = nx.betweenness_centrality(G, k=None, normalized=True)\n",
    "    tmp_df = pd.DataFrame({'node': [i[0] for i in be.items()],\n",
    "                         'value_type': ['betweenness' for i in be.items()],\n",
    "                         'value': [i[1] for i in be.items()],\n",
    "                         'network': [network_names[i] for j in be.items()]\n",
    "                        })\n",
    "    real_data_measures = pd.concat([real_data_measures,tmp_df])\n",
    "        \n",
    "        \n",
    "    re = ne.randic_centrality(G, normalized=True)\n",
    "    tmp_df = pd.DataFrame({'node': [i[0] for i in re.items()],\n",
    "                         'value_type': ['randic' for i in re.items()],\n",
    "                         'value': [i[1] for i in re.items()],\n",
    "                         'network': [network_names[i] for j in be.items()]\n",
    "                        })\n",
    "    real_data_measures = pd.concat([real_data_measures, tmp_df])\n",
    "\n",
    "    ge = ne.graph_energy_centrality(G, normalized=True)\n",
    "    tmp_df = pd.DataFrame({'node': [i[0] for i in ge.items()],\n",
    "                         'value_type': ['graph' for i in ge.items()],\n",
    "                         'value': [i[1] for i in ge.items()],\n",
    "                         'network': [network_names[i] for j in be.items()]\n",
    "                        })\n",
    "    real_data_measures = pd.concat([real_data_measures, tmp_df])\n",
    "    \n",
    "    le = ne.laplacian_centrality(G, normalized=True)\n",
    "    tmp_df = pd.DataFrame({'node': [i[0] for i in le.items()],\n",
    "                         'value_type': ['laplacian' for i in le.items()],\n",
    "                         'value': [i[1] for i in le.items()],\n",
    "                         'network': [network_names[i] for j in be.items()]\n",
    "                        })\n",
    "    real_data_measures = pd.concat([real_data_measures, tmp_df])"
   ]
  },
  {
   "cell_type": "code",
   "execution_count": null,
   "metadata": {
    "ExecuteTime": {
     "end_time": "2019-01-01T21:57:17.119523Z",
     "start_time": "2019-01-01T21:57:17.114506Z"
    }
   },
   "outputs": [],
   "source": [
    "real_data_measures.to_pickle('./real_networks_calulated_betweenness_and_energy.pickle')"
   ]
  },
  {
   "cell_type": "code",
   "execution_count": null,
   "metadata": {
    "ExecuteTime": {
     "end_time": "2019-01-01T21:57:17.784691Z",
     "start_time": "2019-01-01T21:57:17.760294Z"
    }
   },
   "outputs": [],
   "source": [
    "def evaluate_results(net, y, y_pred):\n",
    "    \n",
    "    real_prediction_results = pd.DataFrame(columns=['network', 'error_type', 'error_value'])\n",
    "    \n",
    "    mae = sklearn.metrics.mean_absolute_error(y_true=y, y_pred=y_pred)\n",
    "    tmp_df = pd.DataFrame({'network': [net],\n",
    "                         'error_type': ['MAE'], \n",
    "                         'error_value': [mae]\n",
    "                        })\n",
    "    real_prediction_results = pd.concat([real_prediction_results, tmp_df])\n",
    "\n",
    "    mse = sklearn.metrics.mean_squared_error(y_true=y, y_pred=y_pred)\n",
    "    tmp_df = pd.DataFrame({'network': [net],\n",
    "                         'error_type': ['MSE'], \n",
    "                         'error_value': [mse]\n",
    "                        })\n",
    "    real_prediction_results = pd.concat([real_prediction_results, tmp_df])\n",
    "\n",
    "    pearson,_ = scipy.stats.pearsonr(x=y,y=y_pred)\n",
    "    tmp_df = pd.DataFrame({'network': [net],\n",
    "                         'error_type': ['pearson'], \n",
    "                         'error_value': [pearson]\n",
    "                        })\n",
    "    real_prediction_results = pd.concat([real_prediction_results, tmp_df])\n",
    "\n",
    "    spearman,_ = scipy.stats.spearmanr(a=y,b=y_pred, axis=0, nan_policy='propagate')\n",
    "    tmp_df = pd.DataFrame({'network': [net],\n",
    "                         'error_type': ['spearman'], \n",
    "                         'error_value': [spearman]\n",
    "                        })\n",
    "    real_prediction_results = pd.concat([real_prediction_results, tmp_df])\n",
    "\n",
    "\n",
    "    y_ranked = scipy.stats.rankdata(y, method='ordinal') #może metoda average\n",
    "    y_pred_ranked = scipy.stats.rankdata(y_pred, method='ordinal')\n",
    "\n",
    "    kendall,_ = scipy.stats.kendalltau(x=y_ranked,y=y_pred_ranked, initial_lexsort=None, nan_policy='propagate')\n",
    "    tmp_df = pd.DataFrame({'network': [net],\n",
    "                         'error_type': ['kendall'], \n",
    "                         'error_value': [kendall]\n",
    "                        })\n",
    "    real_prediction_results = pd.concat([real_prediction_results, tmp_df])    \n",
    "    \n",
    "    return real_prediction_results"
   ]
  },
  {
   "cell_type": "code",
   "execution_count": null,
   "metadata": {
    "ExecuteTime": {
     "end_time": "2019-01-01T21:57:19.713912Z",
     "start_time": "2019-01-01T21:57:19.499690Z"
    }
   },
   "outputs": [],
   "source": [
    "from sklearn.neighbors import KNeighborsRegressor\n",
    "from sklearn.ensemble import RandomForestRegressor\n",
    "from sklearn.model_selection import train_test_split\n",
    "\n",
    "real_prediction_results = pd.DataFrame(columns=['network', 'error_type', 'error_value'])\n",
    "models = []\n",
    "\n",
    "real_data_measures = pd.read_pickle('./real_networks_calulated_betweenness_and_energy.pickle')\n",
    "\n",
    "\n",
    "for net in tqdm(real_data_measures['network'].unique()):\n",
    "\n",
    "        l_model = KNeighborsRegressor(n_neighbors=10, weights='distance')\n",
    "        l_model = RandomForestRegressor()\n",
    "    \n",
    "        y = real_data_measures[(real_data_measures['network']==net) & \n",
    "                  (real_data_measures['value_type']=='betweenness')\n",
    "                 ]['value'].values\n",
    "\n",
    "        X = real_data_measures[(real_data_measures['network']==net) & \n",
    "                  (real_data_measures['value_type']=='graph')\n",
    "                 ]['value'].values\n",
    "        \n",
    "        X_train, X_test, y_train, y_test = train_test_split(X, y, test_size=0.2, random_state=42)\n",
    "\n",
    "        l_model.fit(X_train.reshape(-1, 1), y_train)\n",
    "\n",
    "        models.append(l_model)\n",
    "        \n",
    "        y_pred=l_model.predict(X_test.reshape(-1, 1))\n",
    "        \n",
    "        real_prediction_results=pd.concat([real_prediction_results,evaluate_results(net,y_test,y_pred)])\n",
    "        \n",
    "        \n",
    "real_prediction_results.to_pickle('./real_prediction_results_errors.pickle')     "
   ]
  },
  {
   "cell_type": "code",
   "execution_count": null,
   "metadata": {
    "ExecuteTime": {
     "end_time": "2019-01-01T21:57:22.103594Z",
     "start_time": "2019-01-01T21:57:21.205237Z"
    }
   },
   "outputs": [],
   "source": [
    "sns.set_style(\"whitegrid\")\n",
    "sns.set_context(\"notebook\", font_scale=1.2)\n",
    "\n",
    "real_prediction_results=pd.read_pickle('./real_prediction_results_errors.pickle') \n",
    "\n",
    "f, axs = plt.subplots(5, 1, figsize=(10, 28), sharex=True, sharey=False)\n",
    "\n",
    "for error_type, ax in zip(real_prediction_results['error_type'].unique(),axs):\n",
    "    \n",
    "    x = real_prediction_results[real_prediction_results['error_type']==error_type]['network'].values\n",
    "    y = real_prediction_results[real_prediction_results['error_type']==error_type]['error_value'].values\n",
    "    \n",
    "    colors = {'MAE': 'xkcd:salmon',\n",
    "              'MSE': 'xkcd:pea green', \n",
    "              'pearson': 'xkcd:sky blue', \n",
    "              'spearman': 'xkcd:goldenrod', \n",
    "              'kendall': 'xkcd:moss green'}\n",
    "    \n",
    "    plt.ylim([0,1])    \n",
    "    ax.set_xticklabels(x,rotation='vertical')\n",
    "    ax.set_title(error_type, fontsize=18)\n",
    "    ax.set(xlabel='Network', ylabel='Value')\n",
    "    sns.barplot(x, y, ax=ax, color=colors[error_type])\n",
    "    \n",
    "sns.despine(bottom=True)\n",
    "plt.tight_layout(h_pad=3)\n"
   ]
  },
  {
   "cell_type": "code",
   "execution_count": null,
   "metadata": {
    "ExecuteTime": {
     "end_time": "2019-01-01T21:58:02.296850Z",
     "start_time": "2019-01-01T21:58:02.273029Z"
    }
   },
   "outputs": [],
   "source": [
    "df = pd.pivot_table(real_prediction_results.round(2), \n",
    "                    index='network', \n",
    "                    columns='error_type', \n",
    "                    values='error_value').rename_axis(None, axis=1)\n",
    "# print(df.to_latex())\n",
    "df"
   ]
  },
  {
   "cell_type": "markdown",
   "metadata": {},
   "source": [
    "# Transfer learning\n",
    "\n",
    "In this experiment we check if it is possible to train the regression model on one network and then transfer the same model to other networks. In other words, if the relationship between vertex betweenness and vertex energy is universal, such transfer learning should be possible."
   ]
  },
  {
   "cell_type": "code",
   "execution_count": null,
   "metadata": {
    "ExecuteTime": {
     "end_time": "2019-01-01T21:58:50.049055Z",
     "start_time": "2019-01-01T21:58:49.146090Z"
    }
   },
   "outputs": [],
   "source": [
    "real_data_measures = pd.read_pickle(\n",
    "    './real_networks_calulated_betweenness_and_energy.pickle')\n",
    "\n",
    "transfer_real_prediction_results = pd.DataFrame(\n",
    "    columns=['network', 'error_type', 'error_value', 'source_network'])\n",
    "\n",
    "raw_results = pd.DataFrame(\n",
    "    columns=['network', 'source_network', 'y', 'y_pred'])\n",
    "\n",
    "\n",
    "for i in tqdm(range(len(models))):\n",
    "    for net in (real_data_measures['network'].unique()):\n",
    "        y = real_data_measures[(real_data_measures['network'] == net) &\n",
    "                               (real_data_measures['value_type']\n",
    "                                == 'betweenness')\n",
    "                               ]['value'].values\n",
    "\n",
    "        X = real_data_measures[(real_data_measures['network'] == net) &\n",
    "                               (real_data_measures['value_type'] == 'graph')\n",
    "                               ]['value'].values\n",
    "\n",
    "        y_pred = models[i].predict(X.reshape(-1, 1))\n",
    "\n",
    "        eval_res = evaluate_results(net, y, y_pred)\n",
    "        eval_res['source_network'] = network_names[i]\n",
    "\n",
    "        raw_results = pd.concat([raw_results, pd.DataFrame.from_dict({'network': net,\n",
    "                                                                      'source_network': network_names[i],\n",
    "                                                                      'y': y,\n",
    "                                                                      'y_pred':y_pred})])\n",
    "\n",
    "        transfer_real_prediction_results = pd.concat(\n",
    "            [transfer_real_prediction_results, eval_res])"
   ]
  },
  {
   "cell_type": "markdown",
   "metadata": {},
   "source": [
    "Lets draw a heatmap representing betweenness estimation errors and rank correlations for empirical networks."
   ]
  },
  {
   "cell_type": "code",
   "execution_count": null,
   "metadata": {
    "ExecuteTime": {
     "end_time": "2019-01-01T21:58:57.988690Z",
     "start_time": "2019-01-01T21:58:52.830423Z"
    },
    "scrolled": false
   },
   "outputs": [],
   "source": [
    "sns.set_style(\"whitegrid\")\n",
    "sns.set_palette('Oranges')\n",
    "sns.set_context(\"notebook\", font_scale=1.8)\n",
    "\n",
    "for error_type in ['MAE', 'MSE']:\n",
    "    \n",
    "    error_idx = transfer_real_prediction_results['error_type']==error_type\n",
    "    \n",
    "    x = transfer_real_prediction_results[error_idx]['network'].unique()\n",
    "    y = transfer_real_prediction_results[error_idx]['network'].unique()\n",
    "\n",
    "    val = np.array(transfer_real_prediction_results[error_idx]['error_value'])\n",
    "    val = val.reshape(len(x),len(y))\n",
    "\n",
    "    plt.figure(figsize=(50,50))\n",
    "    plt.title(error_type)\n",
    "    \n",
    "    to_draw=transfer_real_prediction_results[transfer_real_prediction_results['error_type']==error_type]\n",
    "    \n",
    "    ax = sns.heatmap(to_draw[['error_value', \n",
    "                              'source_network', \n",
    "                              'network']].pivot('source_network',\n",
    "                                                'network',\n",
    "                                                'error_value'), \n",
    "                     linewidth=0.5,\n",
    "                     annot=True,\n",
    "                     cmap='Oranges')\n",
    "    ax.invert_yaxis()\n",
    "    \n",
    "    plt.show()\n",
    "    "
   ]
  },
  {
   "cell_type": "code",
   "execution_count": null,
   "metadata": {
    "ExecuteTime": {
     "end_time": "2019-01-01T21:59:06.212629Z",
     "start_time": "2019-01-01T21:58:57.990048Z"
    }
   },
   "outputs": [],
   "source": [
    "for error_type in ['pearson', 'spearman', 'kendall']:\n",
    "    \n",
    "    error_idx = transfer_real_prediction_results['error_type']==error_type\n",
    "    \n",
    "    x = transfer_real_prediction_results[error_idx]['network'].unique()\n",
    "    y = transfer_real_prediction_results[error_idx]['network'].unique()\n",
    "\n",
    "    val = np.array(transfer_real_prediction_results[error_idx]['error_value'])\n",
    "    val = val.reshape(len(x),len(y))\n",
    "\n",
    "    plt.figure(figsize=(50,50))\n",
    "    plt.title(error_type)\n",
    "    \n",
    "    to_draw=transfer_real_prediction_results[error_idx]\n",
    "    \n",
    "    ax = sns.heatmap(to_draw[['error_value', \n",
    "                              'source_network', \n",
    "                              'network']].pivot('source_network',\n",
    "                                                'network',\n",
    "                                                'error_value'), \n",
    "                     linewidth=0.5,\n",
    "                     annot=True,\n",
    "                     cmap='Oranges')\n",
    "    ax.invert_yaxis()\n",
    "    \n",
    "    plt.show()\n",
    "    "
   ]
  },
  {
   "cell_type": "code",
   "execution_count": null,
   "metadata": {},
   "outputs": [],
   "source": []
  }
 ],
 "metadata": {
  "kernelspec": {
   "display_name": "Python 3",
   "language": "python",
   "name": "python3"
  },
  "language_info": {
   "codemirror_mode": {
    "name": "ipython",
    "version": 3
   },
   "file_extension": ".py",
   "mimetype": "text/x-python",
   "name": "python",
   "nbconvert_exporter": "python",
   "pygments_lexer": "ipython3",
   "version": "3.6.7"
  },
  "toc": {
   "base_numbering": 1,
   "nav_menu": {},
   "number_sections": true,
   "sideBar": true,
   "skip_h1_title": false,
   "title_cell": "Table of Contents",
   "title_sidebar": "Contents",
   "toc_cell": true,
   "toc_position": {
    "height": "calc(100% - 180px)",
    "left": "10px",
    "top": "150px",
    "width": "559.391px"
   },
   "toc_section_display": true,
   "toc_window_display": true
  }
 },
 "nbformat": 4,
 "nbformat_minor": 1
}
